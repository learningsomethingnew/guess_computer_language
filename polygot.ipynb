{
 "cells": [
  {
   "cell_type": "code",
   "execution_count": 100,
   "metadata": {
    "collapsed": true
   },
   "outputs": [],
   "source": [
    "#handles the stored webscrapped data\n",
    "import pickle\n",
    "import glob\n",
    "\n",
    "#testing the files\n",
    "from csv import reader\n",
    "\n",
    "#handles the machine learning\n",
    "from sklearn.feature_extraction.text import CountVectorizer\n",
    "from sklearn.cross_validation import train_test_split\n",
    "from sklearn.datasets import load_files\n",
    "from sklearn.feature_extraction.text import TfidfTransformer\n",
    "from sklearn.naive_bayes import MultinomialNB\n",
    "from sklearn.pipeline import Pipeline\n",
    "from sklearn import metrics\n",
    "from sklearn.grid_search import GridSearchCV\n",
    "\n",
    "# Used to flatten dictionary\n",
    "from operator import add\n",
    "from itertools import chain\n",
    "from functools import reduce\n",
    "\n",
    "# Panda to make things look pretty\n",
    "import pandas as pd"
   ]
  },
  {
   "cell_type": "markdown",
   "metadata": {},
   "source": [
    "# MultinomialNB With TFIDF "
   ]
  },
  {
   "cell_type": "markdown",
   "metadata": {},
   "source": [
    "MultinomialNB, or MNB, is a supervised learning algorithm that looks at probability at how often an item occurs and estimates the % change of that. TFID creats a score based on how often an item occurs. By summing the total score of a particular phrase we are able to start pointing to what the prediction could be."
   ]
  },
  {
   "cell_type": "code",
   "execution_count": 2,
   "metadata": {
    "collapsed": false
   },
   "outputs": [],
   "source": [
    "#import pickle file of langauge data\n",
    "lang_semantics = pickle.load(open(\"language_data/data.p\", \"rb\"))\n",
    "# for key in lang_semantics:\n",
    "#     print(len(lang_semantics[key]))"
   ]
  },
  {
   "cell_type": "code",
   "execution_count": 3,
   "metadata": {
    "collapsed": false
   },
   "outputs": [],
   "source": [
    "# Flatten the dict_lsit\n",
    "lang_X = []\n",
    "lang_y = []\n",
    "for key in lang_semantics:\n",
    "    for item in lang_semantics[key]:\n",
    "        lang_X.append(item)\n",
    "        lang_y.append(key)"
   ]
  },
  {
   "cell_type": "code",
   "execution_count": 10,
   "metadata": {
    "collapsed": false
   },
   "outputs": [],
   "source": [
    "lang_X_train, lang_X_test, lang_y_train, lang_y_test = train_test_split(lang_X, lang_y)"
   ]
  },
  {
   "cell_type": "code",
   "execution_count": 5,
   "metadata": {
    "collapsed": false
   },
   "outputs": [],
   "source": [
    "pipeline_map = [('bag_of_words', CountVectorizer()),\n",
    "                ('tfidf', TfidfTransformer()),\n",
    "                ('bayes', MultinomialNB())]"
   ]
  },
  {
   "cell_type": "code",
   "execution_count": 6,
   "metadata": {
    "collapsed": false
   },
   "outputs": [],
   "source": [
    "pipeline = Pipeline(pipeline_map)"
   ]
  },
  {
   "cell_type": "code",
   "execution_count": 7,
   "metadata": {
    "collapsed": false
   },
   "outputs": [],
   "source": [
    "hashpipe = pipeline.fit(lang_X_train, lang_y_train)"
   ]
  },
  {
   "cell_type": "code",
   "execution_count": 49,
   "metadata": {
    "collapsed": false,
    "scrolled": true
   },
   "outputs": [
    {
     "name": "stdout",
     "output_type": "stream",
     "text": [
      "MNB train score:  0.843673067454\n",
      "MNB test score:  0.847970479705\n"
     ]
    }
   ],
   "source": [
    "print('MNB train score: ', hashpipe.score(lang_X_train, lang_y_train))\n",
    "print('MNB test score: ', hashpipe.score(lang_X_test, lang_y_test))"
   ]
  },
  {
   "cell_type": "markdown",
   "metadata": {},
   "source": [
    "### Probability of Predictions - MultinomialNB With TFIDF  "
   ]
  },
  {
   "cell_type": "code",
   "execution_count": 23,
   "metadata": {
    "collapsed": false
   },
   "outputs": [
    {
     "name": "stdout",
     "output_type": "stream",
     "text": [
      "Haskell : 94 / 1355 = 6.94%\n",
      "Python : 208 / 1355 = 15.35%\n",
      "HicEst : 0 / 1355 = 0.00%\n",
      "Scheme : 15 / 1355 = 1.11%\n",
      "Java : 123 / 1355 = 9.08%\n",
      "PHP : 29 / 1355 = 2.14%\n",
      "Scala : 89 / 1355 = 6.57%\n",
      "C# : 64 / 1355 = 4.72%\n",
      "Clojure : 32 / 1355 = 2.36%\n",
      "Perl : 138 / 1355 = 10.18%\n",
      "Ruby : 163 / 1355 = 12.03%\n",
      "C++ : 102 / 1355 = 7.53%\n",
      "OCaml : 77 / 1355 = 5.68%\n",
      "C : 148 / 1355 = 10.92%\n",
      "JavaScript : 73 / 1355 = 5.39%\n"
     ]
    }
   ],
   "source": [
    "probability = {}\n",
    "temp_list = []\n",
    "for item in set(lang_y):\n",
    "    predictions = pipeline.predict(lang_X_test)\n",
    "    predicted = list(predictions).count(item)\n",
    "    total = len(lang_X_test)\n",
    "    print('{0} : {1} / {2} = {3:.2%}'.format(item, predicted, total, predicted / total))\n",
    "    temp_list.append(predicted/total)\n",
    "probability['MNB'] = temp_list\n",
    "    "
   ]
  },
  {
   "cell_type": "markdown",
   "metadata": {},
   "source": [
    "# Support Vector Machine With TFIDF"
   ]
  },
  {
   "cell_type": "markdown",
   "metadata": {},
   "source": [
    "SVM uses a 3D space instead of 2D to map out the features."
   ]
  },
  {
   "cell_type": "code",
   "execution_count": 19,
   "metadata": {
    "collapsed": false
   },
   "outputs": [],
   "source": [
    "from sklearn.linear_model import SGDClassifier"
   ]
  },
  {
   "cell_type": "code",
   "execution_count": 119,
   "metadata": {
    "collapsed": false
   },
   "outputs": [],
   "source": [
    "pipeline1 = Pipeline([('vect', CountVectorizer()),\n",
    "                   ('tfidf', TfidfTransformer()),\n",
    "                   ('clf', SGDClassifier(loss='hinge', penalty='l2',\n",
    "                                           alpha=1e-3, n_iter=2, random_state=42)),\n",
    "])"
   ]
  },
  {
   "cell_type": "code",
   "execution_count": 120,
   "metadata": {
    "collapsed": false
   },
   "outputs": [
    {
     "name": "stdout",
     "output_type": "stream",
     "text": [
      "Haskell : 91 / 1355 = 6.72%\n",
      "Python : 151 / 1355 = 11.14%\n",
      "HicEst : 17 / 1355 = 1.25%\n",
      "Scheme : 34 / 1355 = 2.51%\n",
      "Java : 110 / 1355 = 8.12%\n",
      "PHP : 51 / 1355 = 3.76%\n",
      "Scala : 98 / 1355 = 7.23%\n",
      "C# : 58 / 1355 = 4.28%\n",
      "Clojure : 57 / 1355 = 4.21%\n",
      "Perl : 129 / 1355 = 9.52%\n",
      "Ruby : 144 / 1355 = 10.63%\n",
      "C++ : 99 / 1355 = 7.31%\n",
      "OCaml : 83 / 1355 = 6.13%\n",
      "C : 134 / 1355 = 9.89%\n",
      "JavaScript : 99 / 1355 = 7.31%\n"
     ]
    }
   ],
   "source": [
    "weezer = pipeline1.fit(lang_X_train, lang_y_train)\n",
    "temp_list=[]\n",
    "for item in set(lang_y):\n",
    "    predictions1 = pipeline1.predict(lang_X_test)\n",
    "    predicted = list(predictions1).count(item)\n",
    "    total = len(lang_X_test)\n",
    "    print('{0} : {1} / {2} = {3:.2%}'.format(item, predicted, total, predicted / total))\n",
    "    temp_list.append(predicted/total)\n",
    "probability['SVM'] = temp_list"
   ]
  },
  {
   "cell_type": "code",
   "execution_count": 121,
   "metadata": {
    "collapsed": false
   },
   "outputs": [
    {
     "name": "stdout",
     "output_type": "stream",
     "text": [
      "SVM train score:  0.955440669621\n",
      "SVM test score:  0.883394833948\n"
     ]
    }
   ],
   "source": [
    "print('SVM train score: ', weezer.score(lang_X_train, lang_y_train))\n",
    "print('SVM test score: ', weezer.score(lang_X_test, lang_y_test))"
   ]
  },
  {
   "cell_type": "markdown",
   "metadata": {},
   "source": [
    "# Grid Search"
   ]
  },
  {
   "cell_type": "markdown",
   "metadata": {},
   "source": [
    "Help determine the best parameters for searching"
   ]
  },
  {
   "cell_type": "code",
   "execution_count": 112,
   "metadata": {
    "collapsed": false
   },
   "outputs": [
    {
     "name": "stdout",
     "output_type": "stream",
     "text": [
      "Haskell : 95 / 1355 = 7.01%\n",
      "Python : 146 / 1355 = 10.77%\n",
      "HicEst : 13 / 1355 = 0.96%\n",
      "Scheme : 33 / 1355 = 2.44%\n",
      "Java : 112 / 1355 = 8.27%\n",
      "PHP : 50 / 1355 = 3.69%\n",
      "Scala : 99 / 1355 = 7.31%\n",
      "C# : 64 / 1355 = 4.72%\n",
      "Clojure : 60 / 1355 = 4.43%\n",
      "Perl : 135 / 1355 = 9.96%\n",
      "Ruby : 138 / 1355 = 10.18%\n",
      "C++ : 100 / 1355 = 7.38%\n",
      "OCaml : 84 / 1355 = 6.20%\n",
      "C : 130 / 1355 = 9.59%\n",
      "JavaScript : 96 / 1355 = 7.08%\n"
     ]
    }
   ],
   "source": [
    "parameters = {'vect__ngram_range': [(1, 1), (1, 2)],\n",
    "              'tfidf__use_idf': (True, False),\n",
    "              'clf__alpha': (1e-2, 1e-3),\n",
    "}\n",
    "gs_clf = GridSearchCV(weezer, parameters, n_jobs=-1)\n",
    "gs_clf = gs_clf.fit(lang_X_train, lang_y_train)\n",
    "gs_predict = gs_clf.predict(lang_X_test)\n",
    "temp_list=[]\n",
    "for item in set(lang_y):\n",
    "    predicted = list(gs_predict).count(item)\n",
    "    total = len(lang_X_test)\n",
    "    print('{0} : {1} / {2} = {3:.2%}'.format(item, predicted, total, predicted / total))\n",
    "    temp_list.append(predicted/total)\n",
    "probability['GS'] = temp_list"
   ]
  },
  {
   "cell_type": "code",
   "execution_count": 113,
   "metadata": {
    "collapsed": false
   },
   "outputs": [
    {
     "name": "stdout",
     "output_type": "stream",
     "text": [
      "Haskell : 95 / 1355 = 7.01%\n",
      "Python : 146 / 1355 = 10.77%\n",
      "HicEst : 13 / 1355 = 0.96%\n",
      "Scheme : 33 / 1355 = 2.44%\n",
      "Java : 112 / 1355 = 8.27%\n",
      "PHP : 50 / 1355 = 3.69%\n",
      "Scala : 99 / 1355 = 7.31%\n",
      "C# : 64 / 1355 = 4.72%\n",
      "Clojure : 60 / 1355 = 4.43%\n",
      "Perl : 135 / 1355 = 9.96%\n",
      "Ruby : 138 / 1355 = 10.18%\n",
      "C++ : 100 / 1355 = 7.38%\n",
      "OCaml : 84 / 1355 = 6.20%\n",
      "C : 130 / 1355 = 9.59%\n",
      "JavaScript : 96 / 1355 = 7.08%\n"
     ]
    }
   ],
   "source": [
    "temp_list=[]\n",
    "for item in set(lang_y):\n",
    "    predicted = list(gs_predict).count(item)\n",
    "    total = len(lang_X_test)\n",
    "    print('{0} : {1} / {2} = {3:.2%}'.format(item, predicted, total, predicted / total))\n",
    "    temp_list.append(predicted/total)\n",
    "probability['GS'] = temp_list"
   ]
  },
  {
   "cell_type": "code",
   "execution_count": 114,
   "metadata": {
    "collapsed": false
   },
   "outputs": [
    {
     "name": "stdout",
     "output_type": "stream",
     "text": [
      "clf__alpha: 0.001\n",
      "tfidf__use_idf: True\n",
      "vect__ngram_range: (1, 2)\n"
     ]
    }
   ],
   "source": [
    "best_parameters, score, _ = max(gs_clf.grid_scores_, key=lambda x: x[1])\n",
    "for param_name in sorted(parameters.keys()):\n",
    "    print(\"%s: %r\" % (param_name, best_parameters[param_name]))"
   ]
  },
  {
   "cell_type": "markdown",
   "metadata": {},
   "source": [
    "## Grid Search W/Updated Parameters"
   ]
  },
  {
   "cell_type": "code",
   "execution_count": 115,
   "metadata": {
    "collapsed": false
   },
   "outputs": [
    {
     "name": "stdout",
     "output_type": "stream",
     "text": [
      "Haskell : 95 / 1355 = 7.01%\n",
      "Python : 146 / 1355 = 10.77%\n",
      "HicEst : 13 / 1355 = 0.96%\n",
      "Scheme : 33 / 1355 = 2.44%\n",
      "Java : 112 / 1355 = 8.27%\n",
      "PHP : 50 / 1355 = 3.69%\n",
      "Scala : 99 / 1355 = 7.31%\n",
      "C# : 64 / 1355 = 4.72%\n",
      "Clojure : 60 / 1355 = 4.43%\n",
      "Perl : 135 / 1355 = 9.96%\n",
      "Ruby : 138 / 1355 = 10.18%\n",
      "C++ : 100 / 1355 = 7.38%\n",
      "OCaml : 84 / 1355 = 6.20%\n",
      "C : 130 / 1355 = 9.59%\n",
      "JavaScript : 96 / 1355 = 7.08%\n"
     ]
    }
   ],
   "source": [
    "parameters = {'vect__ngram_range': [(1, 2)],\n",
    "              'tfidf__use_idf': (True, True),\n",
    "              'clf__alpha': (.001, .001),\n",
    "}\n",
    "gs_clf_updated = GridSearchCV(weezer, parameters, n_jobs=-1)\n",
    "gs_clf_updated = gs_clf_updated.fit(lang_X_train, lang_y_train)\n",
    "gs_predict_updated = gs_clf_updated.predict(lang_X_test)\n",
    "temp_list=[]\n",
    "for item in set(lang_y):\n",
    "    predicted = list(gs_predict_updated).count(item)\n",
    "    total = len(lang_X_test)\n",
    "    print('{0} : {1} / {2} = {3:.2%}'.format(item, predicted, total, predicted / total))\n",
    "    temp_list.append(predicted/total)\n",
    "probability['GS_Updated'] = temp_list"
   ]
  },
  {
   "cell_type": "markdown",
   "metadata": {},
   "source": [
    "# Metric Reports"
   ]
  },
  {
   "cell_type": "code",
   "execution_count": 73,
   "metadata": {
    "collapsed": false
   },
   "outputs": [
    {
     "name": "stdout",
     "output_type": "stream",
     "text": [
      "MultinomialNB With TFIDF\n",
      "             precision    recall  f1-score   support\n",
      "\n",
      "          C       0.97      0.76      0.85       148\n",
      "         C#       0.86      0.92      0.89        64\n",
      "        C++       0.91      0.99      0.95       102\n",
      "    Clojure       0.46      1.00      0.63        32\n",
      "    Haskell       0.91      0.93      0.92        94\n",
      "     HicEst       0.00      0.00      0.00         0\n",
      "       Java       0.95      0.82      0.88       123\n",
      " JavaScript       0.82      0.96      0.89        73\n",
      "      OCaml       0.89      0.99      0.94        77\n",
      "        PHP       0.42      1.00      0.59        29\n",
      "       Perl       0.98      0.86      0.92       138\n",
      "     Python       0.94      0.67      0.78       208\n",
      "       Ruby       0.95      0.79      0.86       163\n",
      "      Scala       0.88      0.89      0.88        89\n",
      "     Scheme       0.47      1.00      0.64        15\n",
      "\n",
      "avg / total       0.90      0.85      0.86      1355\n",
      "\n",
      "----------------------------------------------------\n",
      "Support Vector Machine With TFIDF\n",
      "             precision    recall  f1-score   support\n",
      "\n",
      "          C       0.96      0.85      0.90       131\n",
      "         C#       0.84      0.94      0.89        62\n",
      "        C++       0.88      0.99      0.93        99\n",
      "    Clojure       0.84      0.95      0.89        62\n",
      "    Haskell       0.89      0.93      0.91        91\n",
      "     HicEst       0.74      0.93      0.82        15\n",
      "       Java       0.89      0.87      0.88       108\n",
      " JavaScript       0.93      0.77      0.84       102\n",
      "      OCaml       0.88      0.91      0.90        82\n",
      "        PHP       0.70      0.96      0.81        50\n",
      "       Perl       0.93      0.90      0.92       127\n",
      "     Python       0.89      0.87      0.88       153\n",
      "       Ruby       0.89      0.87      0.88       138\n",
      "      Scala       0.93      0.83      0.88       101\n",
      "     Scheme       0.94      0.88      0.91        34\n",
      "\n",
      "avg / total       0.89      0.89      0.89      1355\n",
      "\n",
      "----------------------------------------------------\n",
      "Support Vector Machine With TFIDF\n"
     ]
    },
    {
     "name": "stderr",
     "output_type": "stream",
     "text": [
      "/Users/Nic/TIY/.direnv/python-3.5.1/lib/python3.5/site-packages/sklearn/metrics/classification.py:1076: UndefinedMetricWarning: Recall and F-score are ill-defined and being set to 0.0 in labels with no true samples.\n",
      "  'recall', 'true', average, warn_for)\n"
     ]
    },
    {
     "name": "stdout",
     "output_type": "stream",
     "text": [
      "             precision    recall  f1-score   support\n",
      "\n",
      "          C       0.97      0.88      0.92       130\n",
      "         C#       0.87      0.94      0.90        64\n",
      "        C++       0.89      0.99      0.94       100\n",
      "    Clojure       0.81      0.95      0.88        60\n",
      "    Haskell       0.92      0.93      0.92        95\n",
      "     HicEst       0.68      1.00      0.81        13\n",
      "       Java       0.91      0.86      0.88       112\n",
      " JavaScript       0.93      0.82      0.87        96\n",
      "      OCaml       0.91      0.92      0.91        84\n",
      "        PHP       0.70      0.96      0.81        50\n",
      "       Perl       0.97      0.87      0.92       135\n",
      "     Python       0.88      0.90      0.89       146\n",
      "       Ruby       0.90      0.88      0.89       138\n",
      "      Scala       0.91      0.83      0.87        99\n",
      "     Scheme       0.94      0.91      0.92        33\n",
      "\n",
      "avg / total       0.90      0.90      0.90      1355\n",
      "\n",
      "----------------------------------------------------\n"
     ]
    }
   ],
   "source": [
    "print(\"MultinomialNB With TFIDF\")\n",
    "print(metrics.classification_report(hashpipe.predict(lang_X_test), lang_y_test))\n",
    "print(\"----------------------------------------------------\")\n",
    "print(\"Support Vector Machine With TFIDF\")\n",
    "print(metrics.classification_report(weezer.predict(lang_X_test), lang_y_test))\n",
    "print(\"----------------------------------------------------\")\n",
    "print(\"Support Vector Machine With TFIDF\")\n",
    "print(metrics.classification_report(gs_clf.predict(lang_X_test), lang_y_test))\n",
    "print(\"----------------------------------------------------\")"
   ]
  },
  {
   "cell_type": "markdown",
   "metadata": {},
   "source": [
    "# Probability Comparison"
   ]
  },
  {
   "cell_type": "code",
   "execution_count": 122,
   "metadata": {
    "collapsed": false
   },
   "outputs": [
    {
     "data": {
      "text/html": [
       "<div>\n",
       "<table border=\"1\" class=\"dataframe\">\n",
       "  <thead>\n",
       "    <tr style=\"text-align: right;\">\n",
       "      <th></th>\n",
       "      <th>GS</th>\n",
       "      <th>GS_Updated</th>\n",
       "      <th>MNB</th>\n",
       "      <th>SVM</th>\n",
       "    </tr>\n",
       "    <tr>\n",
       "      <th>lang</th>\n",
       "      <th></th>\n",
       "      <th></th>\n",
       "      <th></th>\n",
       "      <th></th>\n",
       "    </tr>\n",
       "  </thead>\n",
       "  <tbody>\n",
       "    <tr>\n",
       "      <th>Haskell</th>\n",
       "      <td>0.070111</td>\n",
       "      <td>0.070111</td>\n",
       "      <td>0.069373</td>\n",
       "      <td>0.067159</td>\n",
       "    </tr>\n",
       "    <tr>\n",
       "      <th>Python</th>\n",
       "      <td>0.107749</td>\n",
       "      <td>0.107749</td>\n",
       "      <td>0.153506</td>\n",
       "      <td>0.111439</td>\n",
       "    </tr>\n",
       "    <tr>\n",
       "      <th>HicEst</th>\n",
       "      <td>0.009594</td>\n",
       "      <td>0.009594</td>\n",
       "      <td>0.000000</td>\n",
       "      <td>0.012546</td>\n",
       "    </tr>\n",
       "    <tr>\n",
       "      <th>Scheme</th>\n",
       "      <td>0.024354</td>\n",
       "      <td>0.024354</td>\n",
       "      <td>0.011070</td>\n",
       "      <td>0.025092</td>\n",
       "    </tr>\n",
       "    <tr>\n",
       "      <th>Java</th>\n",
       "      <td>0.082657</td>\n",
       "      <td>0.082657</td>\n",
       "      <td>0.090775</td>\n",
       "      <td>0.081181</td>\n",
       "    </tr>\n",
       "    <tr>\n",
       "      <th>PHP</th>\n",
       "      <td>0.036900</td>\n",
       "      <td>0.036900</td>\n",
       "      <td>0.021402</td>\n",
       "      <td>0.037638</td>\n",
       "    </tr>\n",
       "    <tr>\n",
       "      <th>Scala</th>\n",
       "      <td>0.073063</td>\n",
       "      <td>0.073063</td>\n",
       "      <td>0.065683</td>\n",
       "      <td>0.072325</td>\n",
       "    </tr>\n",
       "    <tr>\n",
       "      <th>C#</th>\n",
       "      <td>0.047232</td>\n",
       "      <td>0.047232</td>\n",
       "      <td>0.047232</td>\n",
       "      <td>0.042804</td>\n",
       "    </tr>\n",
       "    <tr>\n",
       "      <th>Clojure</th>\n",
       "      <td>0.044280</td>\n",
       "      <td>0.044280</td>\n",
       "      <td>0.023616</td>\n",
       "      <td>0.042066</td>\n",
       "    </tr>\n",
       "    <tr>\n",
       "      <th>Perl</th>\n",
       "      <td>0.099631</td>\n",
       "      <td>0.099631</td>\n",
       "      <td>0.101845</td>\n",
       "      <td>0.095203</td>\n",
       "    </tr>\n",
       "    <tr>\n",
       "      <th>Ruby</th>\n",
       "      <td>0.101845</td>\n",
       "      <td>0.101845</td>\n",
       "      <td>0.120295</td>\n",
       "      <td>0.106273</td>\n",
       "    </tr>\n",
       "    <tr>\n",
       "      <th>C++</th>\n",
       "      <td>0.073801</td>\n",
       "      <td>0.073801</td>\n",
       "      <td>0.075277</td>\n",
       "      <td>0.073063</td>\n",
       "    </tr>\n",
       "    <tr>\n",
       "      <th>OCaml</th>\n",
       "      <td>0.061993</td>\n",
       "      <td>0.061993</td>\n",
       "      <td>0.056827</td>\n",
       "      <td>0.061255</td>\n",
       "    </tr>\n",
       "    <tr>\n",
       "      <th>C</th>\n",
       "      <td>0.095941</td>\n",
       "      <td>0.095941</td>\n",
       "      <td>0.109225</td>\n",
       "      <td>0.098893</td>\n",
       "    </tr>\n",
       "    <tr>\n",
       "      <th>JavaScript</th>\n",
       "      <td>0.070849</td>\n",
       "      <td>0.070849</td>\n",
       "      <td>0.053875</td>\n",
       "      <td>0.073063</td>\n",
       "    </tr>\n",
       "  </tbody>\n",
       "</table>\n",
       "</div>"
      ],
      "text/plain": [
       "                  GS  GS_Updated       MNB       SVM\n",
       "lang                                                \n",
       "Haskell     0.070111    0.070111  0.069373  0.067159\n",
       "Python      0.107749    0.107749  0.153506  0.111439\n",
       "HicEst      0.009594    0.009594  0.000000  0.012546\n",
       "Scheme      0.024354    0.024354  0.011070  0.025092\n",
       "Java        0.082657    0.082657  0.090775  0.081181\n",
       "PHP         0.036900    0.036900  0.021402  0.037638\n",
       "Scala       0.073063    0.073063  0.065683  0.072325\n",
       "C#          0.047232    0.047232  0.047232  0.042804\n",
       "Clojure     0.044280    0.044280  0.023616  0.042066\n",
       "Perl        0.099631    0.099631  0.101845  0.095203\n",
       "Ruby        0.101845    0.101845  0.120295  0.106273\n",
       "C++         0.073801    0.073801  0.075277  0.073063\n",
       "OCaml       0.061993    0.061993  0.056827  0.061255\n",
       "C           0.095941    0.095941  0.109225  0.098893\n",
       "JavaScript  0.070849    0.070849  0.053875  0.073063"
      ]
     },
     "execution_count": 122,
     "metadata": {},
     "output_type": "execute_result"
    }
   ],
   "source": [
    "df = pd.DataFrame(probability)\n",
    "df['lang'] = set(lang_y)\n",
    "df.index = df.pop('lang')\n",
    "df"
   ]
  },
  {
   "cell_type": "markdown",
   "metadata": {},
   "source": [
    "# Test Files Test"
   ]
  },
  {
   "cell_type": "code",
   "execution_count": 123,
   "metadata": {
    "collapsed": false
   },
   "outputs": [],
   "source": [
    "with open('test_data/test.csv') as test_csv:\n",
    "    test_files = reader(test_csv)\n",
    "    \n",
    "    guess_dict = {}\n",
    "    three_class = ['Correct_Answer','MNB', 'SVM', 'GS']\n",
    "    mnb_temp = []\n",
    "    svm_temp = []\n",
    "    gs_temp = []\n",
    "    ca_temp = []\n",
    "    for line in test_files:\n",
    "        with open('test_data/test/'+line[0]) as test:\n",
    "            mnb = hashpipe.predict([test.read()])\n",
    "            svm = weezer.predict([test.read()])\n",
    "            grid = gs_clf.predict([test.read()])\n",
    "            mnb_temp.append(mnb[0])\n",
    "            svm_temp.append(svm[0])\n",
    "            gs_temp.append(grid[0])\n",
    "            ca_temp.append(line[1])\n",
    "df_test = pd.DataFrame()\n",
    "df_test['Correct_Answer'] = ca_temp\n",
    "df_test['MNB'] = mnb_temp\n",
    "df_test['SVM'] = svm_temp\n",
    "df_test['GS'] = gs_temp"
   ]
  },
  {
   "cell_type": "code",
   "execution_count": 125,
   "metadata": {
    "collapsed": false
   },
   "outputs": [
    {
     "data": {
      "text/html": [
       "<div>\n",
       "<table border=\"1\" class=\"dataframe\">\n",
       "  <thead>\n",
       "    <tr style=\"text-align: right;\">\n",
       "      <th></th>\n",
       "      <th>Correct_Answer</th>\n",
       "      <th>MNB</th>\n",
       "      <th>SVM</th>\n",
       "      <th>GS</th>\n",
       "    </tr>\n",
       "  </thead>\n",
       "  <tbody>\n",
       "    <tr>\n",
       "      <th>0</th>\n",
       "      <td>clojure</td>\n",
       "      <td>Perl</td>\n",
       "      <td>Ruby</td>\n",
       "      <td>Ruby</td>\n",
       "    </tr>\n",
       "    <tr>\n",
       "      <th>1</th>\n",
       "      <td>clojure</td>\n",
       "      <td>Java</td>\n",
       "      <td>Ruby</td>\n",
       "      <td>Ruby</td>\n",
       "    </tr>\n",
       "    <tr>\n",
       "      <th>2</th>\n",
       "      <td>clojure</td>\n",
       "      <td>Ruby</td>\n",
       "      <td>Ruby</td>\n",
       "      <td>Ruby</td>\n",
       "    </tr>\n",
       "    <tr>\n",
       "      <th>3</th>\n",
       "      <td>clojure</td>\n",
       "      <td>Ruby</td>\n",
       "      <td>Ruby</td>\n",
       "      <td>Ruby</td>\n",
       "    </tr>\n",
       "    <tr>\n",
       "      <th>4</th>\n",
       "      <td>python</td>\n",
       "      <td>Python</td>\n",
       "      <td>Ruby</td>\n",
       "      <td>Ruby</td>\n",
       "    </tr>\n",
       "    <tr>\n",
       "      <th>5</th>\n",
       "      <td>python</td>\n",
       "      <td>Python</td>\n",
       "      <td>Ruby</td>\n",
       "      <td>Ruby</td>\n",
       "    </tr>\n",
       "    <tr>\n",
       "      <th>6</th>\n",
       "      <td>python</td>\n",
       "      <td>Python</td>\n",
       "      <td>Ruby</td>\n",
       "      <td>Ruby</td>\n",
       "    </tr>\n",
       "    <tr>\n",
       "      <th>7</th>\n",
       "      <td>python</td>\n",
       "      <td>Python</td>\n",
       "      <td>Ruby</td>\n",
       "      <td>Ruby</td>\n",
       "    </tr>\n",
       "    <tr>\n",
       "      <th>8</th>\n",
       "      <td>javascript</td>\n",
       "      <td>JavaScript</td>\n",
       "      <td>Ruby</td>\n",
       "      <td>Ruby</td>\n",
       "    </tr>\n",
       "    <tr>\n",
       "      <th>9</th>\n",
       "      <td>javascript</td>\n",
       "      <td>JavaScript</td>\n",
       "      <td>Ruby</td>\n",
       "      <td>Ruby</td>\n",
       "    </tr>\n",
       "    <tr>\n",
       "      <th>10</th>\n",
       "      <td>javascript</td>\n",
       "      <td>Python</td>\n",
       "      <td>Ruby</td>\n",
       "      <td>Ruby</td>\n",
       "    </tr>\n",
       "    <tr>\n",
       "      <th>11</th>\n",
       "      <td>javascript</td>\n",
       "      <td>Ruby</td>\n",
       "      <td>Ruby</td>\n",
       "      <td>Ruby</td>\n",
       "    </tr>\n",
       "    <tr>\n",
       "      <th>12</th>\n",
       "      <td>ruby</td>\n",
       "      <td>Ruby</td>\n",
       "      <td>Ruby</td>\n",
       "      <td>Ruby</td>\n",
       "    </tr>\n",
       "    <tr>\n",
       "      <th>13</th>\n",
       "      <td>ruby</td>\n",
       "      <td>Ruby</td>\n",
       "      <td>Ruby</td>\n",
       "      <td>Ruby</td>\n",
       "    </tr>\n",
       "    <tr>\n",
       "      <th>14</th>\n",
       "      <td>ruby</td>\n",
       "      <td>Ruby</td>\n",
       "      <td>Ruby</td>\n",
       "      <td>Ruby</td>\n",
       "    </tr>\n",
       "    <tr>\n",
       "      <th>15</th>\n",
       "      <td>haskell</td>\n",
       "      <td>Haskell</td>\n",
       "      <td>Ruby</td>\n",
       "      <td>Ruby</td>\n",
       "    </tr>\n",
       "    <tr>\n",
       "      <th>16</th>\n",
       "      <td>haskell</td>\n",
       "      <td>Haskell</td>\n",
       "      <td>Ruby</td>\n",
       "      <td>Ruby</td>\n",
       "    </tr>\n",
       "    <tr>\n",
       "      <th>17</th>\n",
       "      <td>haskell</td>\n",
       "      <td>Haskell</td>\n",
       "      <td>Ruby</td>\n",
       "      <td>Ruby</td>\n",
       "    </tr>\n",
       "    <tr>\n",
       "      <th>18</th>\n",
       "      <td>scheme</td>\n",
       "      <td>Scheme</td>\n",
       "      <td>Ruby</td>\n",
       "      <td>Ruby</td>\n",
       "    </tr>\n",
       "    <tr>\n",
       "      <th>19</th>\n",
       "      <td>scheme</td>\n",
       "      <td>Scheme</td>\n",
       "      <td>Ruby</td>\n",
       "      <td>Ruby</td>\n",
       "    </tr>\n",
       "    <tr>\n",
       "      <th>20</th>\n",
       "      <td>scheme</td>\n",
       "      <td>C</td>\n",
       "      <td>Ruby</td>\n",
       "      <td>Ruby</td>\n",
       "    </tr>\n",
       "    <tr>\n",
       "      <th>21</th>\n",
       "      <td>java</td>\n",
       "      <td>Java</td>\n",
       "      <td>Ruby</td>\n",
       "      <td>Ruby</td>\n",
       "    </tr>\n",
       "    <tr>\n",
       "      <th>22</th>\n",
       "      <td>java</td>\n",
       "      <td>Python</td>\n",
       "      <td>Ruby</td>\n",
       "      <td>Ruby</td>\n",
       "    </tr>\n",
       "    <tr>\n",
       "      <th>23</th>\n",
       "      <td>scala</td>\n",
       "      <td>Scala</td>\n",
       "      <td>Ruby</td>\n",
       "      <td>Ruby</td>\n",
       "    </tr>\n",
       "    <tr>\n",
       "      <th>24</th>\n",
       "      <td>scala</td>\n",
       "      <td>Scala</td>\n",
       "      <td>Ruby</td>\n",
       "      <td>Ruby</td>\n",
       "    </tr>\n",
       "    <tr>\n",
       "      <th>25</th>\n",
       "      <td>tcl</td>\n",
       "      <td>Python</td>\n",
       "      <td>Ruby</td>\n",
       "      <td>Ruby</td>\n",
       "    </tr>\n",
       "    <tr>\n",
       "      <th>26</th>\n",
       "      <td>tcl</td>\n",
       "      <td>C</td>\n",
       "      <td>Ruby</td>\n",
       "      <td>Ruby</td>\n",
       "    </tr>\n",
       "    <tr>\n",
       "      <th>27</th>\n",
       "      <td>php</td>\n",
       "      <td>Java</td>\n",
       "      <td>Ruby</td>\n",
       "      <td>Ruby</td>\n",
       "    </tr>\n",
       "    <tr>\n",
       "      <th>28</th>\n",
       "      <td>php</td>\n",
       "      <td>Java</td>\n",
       "      <td>Ruby</td>\n",
       "      <td>Ruby</td>\n",
       "    </tr>\n",
       "    <tr>\n",
       "      <th>29</th>\n",
       "      <td>php</td>\n",
       "      <td>Ruby</td>\n",
       "      <td>Ruby</td>\n",
       "      <td>Ruby</td>\n",
       "    </tr>\n",
       "    <tr>\n",
       "      <th>30</th>\n",
       "      <td>ocaml</td>\n",
       "      <td>OCaml</td>\n",
       "      <td>Ruby</td>\n",
       "      <td>Ruby</td>\n",
       "    </tr>\n",
       "    <tr>\n",
       "      <th>31</th>\n",
       "      <td>ocaml</td>\n",
       "      <td>C</td>\n",
       "      <td>Ruby</td>\n",
       "      <td>Ruby</td>\n",
       "    </tr>\n",
       "  </tbody>\n",
       "</table>\n",
       "</div>"
      ],
      "text/plain": [
       "   Correct_Answer         MNB   SVM    GS\n",
       "0         clojure        Perl  Ruby  Ruby\n",
       "1         clojure        Java  Ruby  Ruby\n",
       "2         clojure        Ruby  Ruby  Ruby\n",
       "3         clojure        Ruby  Ruby  Ruby\n",
       "4          python      Python  Ruby  Ruby\n",
       "5          python      Python  Ruby  Ruby\n",
       "6          python      Python  Ruby  Ruby\n",
       "7          python      Python  Ruby  Ruby\n",
       "8      javascript  JavaScript  Ruby  Ruby\n",
       "9      javascript  JavaScript  Ruby  Ruby\n",
       "10     javascript      Python  Ruby  Ruby\n",
       "11     javascript        Ruby  Ruby  Ruby\n",
       "12           ruby        Ruby  Ruby  Ruby\n",
       "13           ruby        Ruby  Ruby  Ruby\n",
       "14           ruby        Ruby  Ruby  Ruby\n",
       "15        haskell     Haskell  Ruby  Ruby\n",
       "16        haskell     Haskell  Ruby  Ruby\n",
       "17        haskell     Haskell  Ruby  Ruby\n",
       "18         scheme      Scheme  Ruby  Ruby\n",
       "19         scheme      Scheme  Ruby  Ruby\n",
       "20         scheme           C  Ruby  Ruby\n",
       "21           java        Java  Ruby  Ruby\n",
       "22           java      Python  Ruby  Ruby\n",
       "23          scala       Scala  Ruby  Ruby\n",
       "24          scala       Scala  Ruby  Ruby\n",
       "25            tcl      Python  Ruby  Ruby\n",
       "26            tcl           C  Ruby  Ruby\n",
       "27            php        Java  Ruby  Ruby\n",
       "28            php        Java  Ruby  Ruby\n",
       "29            php        Ruby  Ruby  Ruby\n",
       "30          ocaml       OCaml  Ruby  Ruby\n",
       "31          ocaml           C  Ruby  Ruby"
      ]
     },
     "execution_count": 125,
     "metadata": {},
     "output_type": "execute_result"
    }
   ],
   "source": [
    "df_test"
   ]
  },
  {
   "cell_type": "code",
   "execution_count": null,
   "metadata": {
    "collapsed": true
   },
   "outputs": [],
   "source": []
  }
 ],
 "metadata": {
  "kernelspec": {
   "display_name": "Python 3",
   "language": "python",
   "name": "python3"
  },
  "language_info": {
   "codemirror_mode": {
    "name": "ipython",
    "version": 3
   },
   "file_extension": ".py",
   "mimetype": "text/x-python",
   "name": "python",
   "nbconvert_exporter": "python",
   "pygments_lexer": "ipython3",
   "version": "3.5.1"
  }
 },
 "nbformat": 4,
 "nbformat_minor": 0
}
